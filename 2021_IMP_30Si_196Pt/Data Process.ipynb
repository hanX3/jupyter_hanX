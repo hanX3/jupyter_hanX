{
 "cells": [
  {
   "cell_type": "markdown",
   "id": "decc7349",
   "metadata": {},
   "source": [
    "# Data Process\n",
    "\n",
    "## Ge Data\n",
    "\n",
    "### Addback\n",
    "+ 针对时间排序后的数据处理，可以借助 map/vector 容器处理；\n",
    "+ clover 探测器，在符合时间窗内将仅有两个相邻晶体点火的情况做 addback，其余情况均不做 addback；\n",
    " "
   ]
  }
 ],
 "metadata": {
  "kernelspec": {
   "display_name": "Python 3 (ipykernel)",
   "language": "python",
   "name": "python3"
  },
  "language_info": {
   "codemirror_mode": {
    "name": "ipython",
    "version": 3
   },
   "file_extension": ".py",
   "mimetype": "text/x-python",
   "name": "python",
   "nbconvert_exporter": "python",
   "pygments_lexer": "ipython3",
   "version": "3.11.5"
  }
 },
 "nbformat": 4,
 "nbformat_minor": 5
}
