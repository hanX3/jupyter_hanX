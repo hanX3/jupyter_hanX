{
 "cells": [
  {
   "cell_type": "markdown",
   "id": "2249c4f7",
   "metadata": {},
   "source": [
    "# 摘要\n",
    "\n",
    "+ coulex 可用于提取原子核的电磁性质；\n",
    "+ 新的挑战是应用到放射性束线上，数据统计量较低，一直谱学信息较少，比如寿命，分支比信息确实的情况下，如何通过 GOSIA 程序 least-squares fit进行拟合？"
   ]
  },
  {
   "cell_type": "markdown",
   "id": "e0540868",
   "metadata": {},
   "source": [
    "# 引言\n",
    "+ \"安全\"的库仑激发是指弹核与靶核仅仅在电磁相互作用下发生非弹散射，该过程没有引入核力的相互作用。一般认为当弹核与靶核之间的最小距离大于 5 fm时，满足\"安全\"库仑激发的条件。\n",
    "+ 当使用轻核进行库仑激发时，一般值激发到低激发态；而当用 high-Z 进行库仑激发时，则会发生多步库仑激发。GOSIA 程序则是被设计用于描述该过程，结合寿命，分支比，混合比等谱学信息，可以提取出跃迁矩阵元核对角矩阵元的值。\n",
    "+ 缺乏谱学信息怎么办？"
   ]
  },
  {
   "cell_type": "markdown",
   "id": "eea9c9f9",
   "metadata": {},
   "source": [
    "# The GOSIA code\n",
    "+ 略过"
   ]
  },
  {
   "cell_type": "markdown",
   "id": "b5d5cc08",
   "metadata": {},
   "source": [
    "# coulex 中的观测量\n",
    "+ coulex 的光测量是与一定角度内弹核/靶核符合的特定 $\\gamma$ 跃迁的强度，矩阵元的值不是直接观测量，但是与 $\\gamma$ 跃迁强度强相关；\n",
    "+ 归一化系数的计算；\n",
    "+ 在 GOSIA 程序中，特定散射角度的弹核与靶核，$\\gamma$ 跃迁强度的信息称作一次 \"experiment\"，GOSIA 支持输入多次 \"experiment\" 的信息。当多次 \"experiment\" 的信息包含不同的散射角度时，此时便可以提取得到 spectroscopic quadrupole moment($Q_s$) 值，fig1；\n",
    "+ coulex 产额与矩阵元的正负号相关，fig2，fig3；"
   ]
  },
  {
   "cell_type": "markdown",
   "id": "6498de6c",
   "metadata": {},
   "source": [
    "# coulex 数据分析\n",
    "\n",
    "## 测量截面归一\n",
    "+ 目的是找到 $C$ 使得 $\\Sigma_{i}(CI_{i^cal} - I_{i}^{exp})^2/\\sigma_i^{2}$，$C$ 是和 \"experiment\" 对应的，一般针对不同的 \"experiment\"，有着不同的 $C_m$，GOSIA 在进行拟合时，将会拟合全局的 $C_{global}$ 满足 $\\Sigma_{m}\\Sigma_{i}(C_{global}C_mI_{i^cal} - I_{i}^{exp})^2/\\sigma_i^{2}$ 最小。\n",
    "### 弹散归一，略过\n",
    "### 已知激发态寿命或$B(E2)$值归一\n",
    "+ 已知 $\\gamma$ 跃迁产额，以及相关能级的寿命，$B(E2)$ 信息，则可以给出归一化系数 $C_m$；\n",
    "### 利用靶核的激发归一\n",
    "+ GOSIA2 用于同时考虑弹核和靶核的激发；\n",
    "\n",
    "## $\\chi^2$ square minimisation in GOSIA\n",
    "+ GOSIA 中最小二乘法拟合，其卡方值 $\\chi^2 = S_y+S-l+S_d$，其中 $S_y$ 是指产额的卡方值，$S_l$ 不懂，$S_d$ 是指谱学信息的误差值；\n",
    "+ 当目标核低激发态的寿命未知时，建议通过靶核的激发进行归一，其卡方值计算方法和 GOSIA 程序一致，只是弹核和靶核共享同一个归一系数；\n",
    "+ 当弹核只有两个矩阵元需要拟合时，可以通过 chi2 surface 确定矩阵元的误差。下面会介绍当弹核有更多矩阵元需要同时拟合的情况；\n",
    "\n",
    "## 误差估计方法\n",
    "### Standard error estimation in GOSIA 略过\n",
    "### 2-D $\\chi^2$ surface analysis\n",
    "+ 一般来说，$\\chi^2$ surface 图变化的是 $<2_1^+||E2||0_1^+>$ 和 $<2_1^+||E2||2_1^+>$ 矩阵元，这两个矩阵元足够描述偶偶核第一个$2^+$ 态信息，如 fig4(a)；如果有额外确定的谱学信息，比如能级寿命信息，则可以将其作为输入，进一步对 $\\chi^2$ surface 图做限制，如 fig4(b)；\n",
    "+ 为什么随后又具体将其他的应用？\n",
    "\n",
    "## 常见应用\n",
    "### Normalisation to the B(E2) extracted from data sets where no correlations are observed，略过\n",
    "### Multiple Coulomb excitation and normalisation with a dominant transition to target excitation: combined GOSIA-GOSIA2 analysis\n",
    "+ 第一步，仅放开弹核的 $<2_1^+||E2||0_1^+>$ 和 $<2_1^+||E2||2_1^+>$ 矩阵元计算 $\\chi^2$ surface，得到 $<2_1^+||E2||0_1^+>$ 的初始值；\n",
    "+ 第二步，放开弹核其他所有矩阵元的值，如果有已知的谱学信息，亦可作为输入；但是 $<2_1^+||E2||2_1^+>$ 矩阵元不在这一步拟合。这一步将得到所有弹核矩阵元的值；\n",
    "+ 第三步，继续计算 $\\chi^2$ surface，将弹核所有矩阵元信息固定，而靶核矩阵元信息放开；\n",
    "+ 第四步，重复第二步和第三步，直到弹核的 $<2_1^+||E2||0_1^+>$ 和 $<2_1^+||E2||2_1^+>$ 收敛；\n",
    "+ 整个过程见 fig.6"
   ]
  },
  {
   "cell_type": "code",
   "execution_count": null,
   "id": "1ba1f790",
   "metadata": {},
   "outputs": [],
   "source": []
  }
 ],
 "metadata": {
  "kernelspec": {
   "display_name": "Python 3 (ipykernel)",
   "language": "python",
   "name": "python3"
  },
  "language_info": {
   "codemirror_mode": {
    "name": "ipython",
    "version": 3
   },
   "file_extension": ".py",
   "mimetype": "text/x-python",
   "name": "python",
   "nbconvert_exporter": "python",
   "pygments_lexer": "ipython3",
   "version": "3.11.5"
  }
 },
 "nbformat": 4,
 "nbformat_minor": 5
}
