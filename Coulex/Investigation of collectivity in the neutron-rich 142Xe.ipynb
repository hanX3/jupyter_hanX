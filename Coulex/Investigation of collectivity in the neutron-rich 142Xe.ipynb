{
 "cells": [
  {
   "cell_type": "markdown",
   "id": "f31e8ec8",
   "metadata": {},
   "source": [
    "# 实验 set up\n",
    "+ HIE-ISOLDE facility。\n",
    "+ MINIBALL & C-REX setup。MINIBALL阵列对 1332.5keV 的探测效率为 8%。C-REX是指用的是coulex实验设置，除此之外还有 T-REX，是针对转移反应的设置。C-REX 探测器示意图以及实物图。\n",
    "    <div style=\"display: flex;\">\n",
    "    <img src=\"./fig/20240111_1.png\" alt=\"\" width=\"300\" height=\"200\"> \n",
    "    <img src=\"./fig/20240111_2.png\" alt=\"\" width=\"300\" height=\"200\">\n",
    "    </div>\n",
    "    \n",
    "    + 条形硅，在后角。50$\\times$50 mm，142$\\mu$m。覆盖 102$^{\\circ}$ $\\sim$ 153$^{\\circ}$。\n",
    "    + 双面硅，前角后角均有。每个双面硅由 4 个扇形组成，扇形覆盖半径 9$\\sim$41 mm，覆盖 $\\phi$ 方向 81.6$^{\\circ}$.前角 Si 140 $\\mu$m，后角 Si 486 $\\mu$m。后角 Si 探测器覆盖 153$^{\\circ}$ $\\sim$ 172$^{\\circ}$。扇形被分成 16 个 ring 和 24 个 sector。Si 探测器正面如下图。\n",
    "    <img src=\"./fig/20240111_3.png\" alt=\"\" width=\"300\" height=\"200\"> \n",
    " + 实验用到了两块靶，分别是 4 mg/cm$^2$ $^{206}$Pb 和 1.4 mg/cm$^2$ $^{196}$Pt，为了达到统计，本次实验主要用到的是 $^{206}$Pb 靶。"
   ]
  },
  {
   "cell_type": "markdown",
   "id": "4672f954",
   "metadata": {},
   "source": [
    "# 数据处理\n",
    "+ MINIBALL 能量刻度。\n",
    "+ MINIBALL 效率刻度。\n",
    "+ MINIBALL addback；有两种 addback 规则，一是针对单个 cluster 探测器，二是针对相邻的 cluster 探测器（没有反康探头）。在观察数据后，对于后者 addback 的条件是要求对发生 Compton 散射的 $\\gamma$ 射线的夹角需 $\\leq$ 36$^{\\circ}$。addback 之后比较实验单谱，particle-$\\gamma$-$\\gamma$ 符合的矩阵以及多普勒修正后的能谱。\n",
    "+ Si 探测器正背面归一，能量漂移修正。理解所有 Si 探测器的事件，ring 和 sector 只有一次点火的情况，以及 ring 与 sector 各有多次点火的情况，以上种种情况下，如何处理？做出 ring 和 sector 的二维图，如下左图，针对图中的每一个区域分别分析讨论。最终得到的有效事件如下右图。\n",
    "    <div style=\"display: flex;\">\n",
    "    <img src=\"./fig/20240112_1.png\" alt=\"\" width=\"400\" height=\"200\"> \n",
    "    <img src=\"./fig/20240112_2.png\" alt=\"\" width=\"400\" height=\"200\">\n",
    "    </div>\n",
    "+ event build。首先对不同 channel 做时间对齐，如下左图，继而给出 particle-$\\gamma$ 的时间谱，如下右图。\n",
    "    <div style=\"display: flex;\">\n",
    "    <img src=\"./fig/20240112_3.png\" alt=\"\" width=\"400\" height=\"200\"> \n",
    "    <img src=\"./fig/20240112_4.png\" alt=\"\" width=\"400\" height=\"200\">\n",
    "    </div>\n",
    "    \n",
    "    \n",
    "+ 多普勒修正。  "
   ]
  }
 ],
 "metadata": {
  "kernelspec": {
   "display_name": "Python 3 (ipykernel)",
   "language": "python",
   "name": "python3"
  },
  "language_info": {
   "codemirror_mode": {
    "name": "ipython",
    "version": 3
   },
   "file_extension": ".py",
   "mimetype": "text/x-python",
   "name": "python",
   "nbconvert_exporter": "python",
   "pygments_lexer": "ipython3",
   "version": "3.11.5"
  }
 },
 "nbformat": 4,
 "nbformat_minor": 5
}
