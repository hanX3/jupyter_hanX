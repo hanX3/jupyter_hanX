{
 "cells": [
  {
   "cell_type": "markdown",
   "id": "f57786f1",
   "metadata": {},
   "source": [
    "# 摘要\n",
    "+ 32Si 的四极形变值比壳模型和 ab initio 理论预言小两个量级。\n",
    "+ a reduced role for out-of-space excitations in $^{32}$Si."
   ]
  },
  {
   "cell_type": "markdown",
   "id": "0cecab14",
   "metadata": {},
   "source": [
    "# 引言\n",
    "+ 原子核形变（四极形变）对于核结构研究很重要；对于集体性的原子核，表现为低 2$^{+}$ 态能量，增加的 B(E2) 值以及大的四极矩 ($Q_s$)；\n",
    "+ sd 壳很重要。理论研究不需要做阶段；并且有着丰富的物理现象；\n",
    "+ 引出 $^{32}$Si"
   ]
  },
  {
   "cell_type": "markdown",
   "id": "671223d5",
   "metadata": {},
   "source": [
    "# 实验\n",
    "+ MSU NSCL ReA6 束线；\n",
    "+ JANUS（2 个 S3 Si array）& SeGA array (16 个 HPGe 探头)；\n",
    "+ $^{32}$Si 是放射性束，混入 $^{96}$Mo 污染，流强 5$\\times$10$^5$ pps；\n",
    "+ downstream S3 Si 距离靶中心 26 mm，覆盖实验室系 22.9$^{\\circ}$ \\< $\\theta$$_{lab}$ \\< 53.4$^{\\circ}$；upstream S3 Si 距离靶中心 34 mm，覆盖实验室系 134$^{\\circ}$ \\< $\\theta$$_{lab}$ \\< 162$^{\\circ}$。对应到质心系里面的角度可以通过公式计算，也可以利用 lise 计算。得到质心系内的角度后，可以根据公式计算弹核和靶核之间的距离$d$\n",
    "$$\n",
    "  E_{lab}=0.72 \\cdot \\frac{Z_1Z_2}{d} \\cdot \\frac{A_1+A_2}{A_2}(1+\\frac{1}{sin(\\frac{\\theta_{CM}}{2})})\n",
    "$$\n",
    "+ "
   ]
  },
  {
   "cell_type": "code",
   "execution_count": null,
   "id": "57dbeba4",
   "metadata": {},
   "outputs": [],
   "source": []
  }
 ],
 "metadata": {
  "kernelspec": {
   "display_name": "Python 3 (ipykernel)",
   "language": "python",
   "name": "python3"
  },
  "language_info": {
   "codemirror_mode": {
    "name": "ipython",
    "version": 3
   },
   "file_extension": ".py",
   "mimetype": "text/x-python",
   "name": "python",
   "nbconvert_exporter": "python",
   "pygments_lexer": "ipython3",
   "version": "3.11.5"
  }
 },
 "nbformat": 4,
 "nbformat_minor": 5
}
