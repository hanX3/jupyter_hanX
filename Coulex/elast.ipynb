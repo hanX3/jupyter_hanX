{
 "cells": [
  {
   "cell_type": "markdown",
   "id": "28fdfcbb",
   "metadata": {},
   "source": [
    "# elast\n",
    "\n",
    "+ 一款用于计算能损的小程序\n",
    "\n",
    "+ `elast o \"1(C)2(H)\" 0.2 16O 30` 30 MeV $^{16}$O 经过 0.2 mg/cm$^2$ 的 CH$_2$ 后的能量；\n",
    "+ `elast oleavc \"1(C)2(H)\" 0.2 16O 30` 同上，但是多计算了能量误差，角度误差，$\\beta$ 值，以及平均电荷态；\n",
    "+ `elast -q Elo \"1(C)2(H)\" 0.2 16O 30 60 31` 计算了 30 $\\sim$ 60 MeV 共计 30 个能量点情况，结果为 3 列，分别是入射能量，能损，以及靶后能量；这里的 Elo 代表 Energy loop；\n",
    "+ `elast -qa 45 Elo \"1(C)2(H)\" 0.2 16O 30 60 31` 这里 45 代表 45$^{\\circ}$，需要用到 a 参数；\n",
    "+ `elast -qa 30 60 1 Alo \"1(C)2(H)\" 0.2 16O 60` 计算 30$^{\\circ}$ $\\sim$ 60$^{\\circ}$，角度步长为 1$^{\\circ}$，60 MeV 的情况；这里的 Alo 代表 Angle loop；\n",
    "+ `elast -Qa 30 60 1 Alo \"1(C)2(H)\" 2 16O 60` 用大写的 Q，避免输出第一行；"
   ]
  },
  {
   "cell_type": "code",
   "execution_count": null,
   "id": "c13afe83",
   "metadata": {},
   "outputs": [],
   "source": []
  }
 ],
 "metadata": {
  "kernelspec": {
   "display_name": "Python 3 (ipykernel)",
   "language": "python",
   "name": "python3"
  },
  "language_info": {
   "codemirror_mode": {
    "name": "ipython",
    "version": 3
   },
   "file_extension": ".py",
   "mimetype": "text/x-python",
   "name": "python",
   "nbconvert_exporter": "python",
   "pygments_lexer": "ipython3",
   "version": "3.11.5"
  }
 },
 "nbformat": 4,
 "nbformat_minor": 5
}
