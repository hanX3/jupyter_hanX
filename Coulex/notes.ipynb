{
 "cells": [
  {
   "cell_type": "markdown",
   "id": "628844fc",
   "metadata": {},
   "source": [
    "# 什么是 multi-step coulomb excitation ?\n",
    "+ 一般发生在高 Z 原子核以垒下安全能量发生库仑相互作用时，此时相互作用时间较长，容易发生多步库仑激发。这区别于中高能（几十 MeV/u）库仑激发，后者一般只能布居到低激发态。\n",
    "+ 多步库仑激发，结合原子核重定向效应（nuclear reorientation），使得可以实验提取跃迁对角矩阵元的值，继而得到四极形变参数。\n",
    "+ 多步库仑激发布居示意图\n",
    "<img src=\"./fig/20240110_1.png\" alt=\"\" width=\"300\" height=\"200\">\n",
    "参考 Machael2017, Daniel2021"
   ]
  },
  {
   "cell_type": "code",
   "execution_count": null,
   "id": "4e34e27a",
   "metadata": {},
   "outputs": [],
   "source": []
  }
 ],
 "metadata": {
  "kernelspec": {
   "display_name": "Python 3 (ipykernel)",
   "language": "python",
   "name": "python3"
  },
  "language_info": {
   "codemirror_mode": {
    "name": "ipython",
    "version": 3
   },
   "file_extension": ".py",
   "mimetype": "text/x-python",
   "name": "python",
   "nbconvert_exporter": "python",
   "pygments_lexer": "ipython3",
   "version": "3.11.5"
  }
 },
 "nbformat": 4,
 "nbformat_minor": 5
}
