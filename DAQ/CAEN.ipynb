{
 "cells": [
  {
   "cell_type": "markdown",
   "id": "97d8e23d",
   "metadata": {},
   "source": [
    "# 20221128_CAEN_CoMPASS\n",
    "1. 数字化的优势\n",
    "2. CoMPASS 介绍"
   ]
  },
  {
   "cell_type": "markdown",
   "id": "bc9518b2",
   "metadata": {},
   "source": [
    "# 20221128_CAEN_固件\n",
    "1. 介绍\n",
    "2. DPP_PSD\n",
    "   * PSD - 基线计算\n",
    "   * PSD - 触发控制\n",
    "      * PSD - 触发控制 - 数字 CFD\n",
    "      * PSD - 触发控制 - Multi trigger\n",
    "      * PSD - 触发控制 – trigger hysteresis\n",
    "      * PSD - 触发控制 – input smoothing\n",
    "      * PSD - 触发控制 – veto\n",
    "   * PSD – 在线 PSD 挑选\n",
    "   * PSD – 噪声触发抑制\n",
    "   * PSD – pileup 控制\n",
    "3. DPP_QDC\n",
    "4. DPP_PHA\n",
    "   * PHA - 传统数据获取\n",
    "   * PHA-CAEN 数字方法\n",
    "      * RC-CR2 filter\n",
    "      * Trapezoidal filter\n",
    "      * Pole-Zreo Adjustment\n",
    "      * Baseline Restoration\n",
    "      * Pile-up rejection\n",
    "      * Veto\n",
    "      * Dead time\n",
    "\n",
    "\n",
    "# 20221203_CAEN_DT5720_readout_示例\n",
    "1. 如何下载？\n",
    "2. 依赖关系\n",
    "3. ProgramDigitizer()\n",
    "4. main()"
   ]
  }
 ],
 "metadata": {
  "kernelspec": {
   "display_name": "Python 3 (ipykernel)",
   "language": "python",
   "name": "python3"
  },
  "language_info": {
   "codemirror_mode": {
    "name": "ipython",
    "version": 3
   },
   "file_extension": ".py",
   "mimetype": "text/x-python",
   "name": "python",
   "nbconvert_exporter": "python",
   "pygments_lexer": "ipython3",
   "version": "3.11.5"
  }
 },
 "nbformat": 4,
 "nbformat_minor": 5
}
