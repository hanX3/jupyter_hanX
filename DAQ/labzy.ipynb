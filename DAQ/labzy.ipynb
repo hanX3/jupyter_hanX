{
 "cells": [
  {
   "cell_type": "markdown",
   "id": "71d5529d",
   "metadata": {},
   "source": [
    "# 20221117_labZY_manual\n",
    "1. 菜单栏-File\n",
    "2. 菜单栏-View\n",
    "3. 菜单栏-Hardware\n",
    "4. 菜单栏-Spectrum\n",
    "5. 菜单栏-Utility\n",
    "6. 窗口-Spectrum\n",
    "7. 窗口-DPP\n",
    "8. nanoMCA 硬件"
   ]
  }
 ],
 "metadata": {
  "kernelspec": {
   "display_name": "Python 3 (ipykernel)",
   "language": "python",
   "name": "python3"
  },
  "language_info": {
   "codemirror_mode": {
    "name": "ipython",
    "version": 3
   },
   "file_extension": ".py",
   "mimetype": "text/x-python",
   "name": "python",
   "nbconvert_exporter": "python",
   "pygments_lexer": "ipython3",
   "version": "3.11.5"
  }
 },
 "nbformat": 4,
 "nbformat_minor": 5
}
