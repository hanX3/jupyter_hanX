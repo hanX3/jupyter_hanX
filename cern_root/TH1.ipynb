{
 "cells": [
  {
   "cell_type": "markdown",
   "id": "e43d9ab1",
   "metadata": {},
   "source": [
    "+ Clone(), Add()\n",
    "```\n",
    "TH1D *h_event = (TH1D*)h_event_a->Clone(\"h_event\");\n",
    "h_event->Add(h_event_b);\n",
    "h_event->Add(h_event_c);\n",
    "h_event->Add(h_event_d);\n",
    "\n",
    "```"
   ]
  }
 ],
 "metadata": {
  "kernelspec": {
   "display_name": "Python 3 (ipykernel)",
   "language": "python",
   "name": "python3"
  },
  "language_info": {
   "codemirror_mode": {
    "name": "ipython",
    "version": 3
   },
   "file_extension": ".py",
   "mimetype": "text/x-python",
   "name": "python",
   "nbconvert_exporter": "python",
   "pygments_lexer": "ipython3",
   "version": "3.11.5"
  }
 },
 "nbformat": 4,
 "nbformat_minor": 5
}
