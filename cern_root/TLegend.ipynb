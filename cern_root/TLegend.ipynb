{
 "cells": [
  {
   "cell_type": "markdown",
   "id": "a92cdcaa",
   "metadata": {},
   "source": [
    "+ 使用举例\n",
    "```\n",
    " TLegend *leg = new TLegend(0.6, 0.8, 0.85, 0.9);\n",
    " leg->AddEntry(gr1, \"30Si\");\n",
    " leg->AddEntry(gr2, \"196Pt\");\n",
    " leg->Draw(\"same\");\n",
    "```"
   ]
  }
 ],
 "metadata": {
  "kernelspec": {
   "display_name": "Python 3 (ipykernel)",
   "language": "python",
   "name": "python3"
  },
  "language_info": {
   "codemirror_mode": {
    "name": "ipython",
    "version": 3
   },
   "file_extension": ".py",
   "mimetype": "text/x-python",
   "name": "python",
   "nbconvert_exporter": "python",
   "pygments_lexer": "ipython3",
   "version": "3.11.5"
  }
 },
 "nbformat": 4,
 "nbformat_minor": 5
}
