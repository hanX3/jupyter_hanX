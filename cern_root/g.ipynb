{
 "cells": [
  {
   "cell_type": "markdown",
   "id": "714dabee",
   "metadata": {},
   "source": [
    "# gROOT\n",
    "\n",
    "+ 提取TF1 `TF1 *tf = (TF1*)gROOT->GetListOfFunctions()->FindObject(\"pol9\");`\n",
    "+ `gROOT->SetBatch(1)`"
   ]
  },
  {
   "cell_type": "markdown",
   "id": "ad77f308",
   "metadata": {},
   "source": [
    "# gDirectory\n",
    "\n",
    "+ 示例代码如下\n",
    "```\n",
    "   TFile *fi;\n",
    "   fi = TFile::Open(\"rootfile/rootfile_1/doppler_r804_825.root\");\n",
    "   if(!fi || fi->IsZombie()){\n",
    "     cout << \"cannot open file\" << endl;\n",
    "     delete fi;\n",
    "     return;\n",
    "   }\n",
    "\n",
    "   fi->cd();\n",
    "   gROOT->ProcessLine(\"event_ge_ring1->cd()\");\n",
    "   TH1D *h_event = (TH1D*)gDirectory->Get(\"h_event_ge_no_doppler_ring1_1\");\n",
    "\n",
    "```"
   ]
  },
  {
   "cell_type": "markdown",
   "id": "089dfc35",
   "metadata": {},
   "source": [
    "\n"
   ]
  },
  {
   "cell_type": "code",
   "execution_count": null,
   "id": "35de5842",
   "metadata": {},
   "outputs": [],
   "source": []
  }
 ],
 "metadata": {
  "kernelspec": {
   "display_name": "Python 3 (ipykernel)",
   "language": "python",
   "name": "python3"
  },
  "language_info": {
   "codemirror_mode": {
    "name": "ipython",
    "version": 3
   },
   "file_extension": ".py",
   "mimetype": "text/x-python",
   "name": "python",
   "nbconvert_exporter": "python",
   "pygments_lexer": "ipython3",
   "version": "3.11.5"
  }
 },
 "nbformat": 4,
 "nbformat_minor": 5
}
