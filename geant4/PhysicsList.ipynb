{
 "cells": [
  {
   "cell_type": "markdown",
   "id": "a1e9e856",
   "metadata": {},
   "source": [
    "# PhysicsList\n"
   ]
  },
  {
   "cell_type": "markdown",
   "id": "2551b458",
   "metadata": {},
   "source": [
    "## 方法一：使用现有的 physics list\n",
    "\n",
    "+ basic/B2\n",
    "+ 只需要在主程序中调用对应的 physics list 即可，具体代码如下所示：\n",
    "  ```\n",
    "   G4VModularPhysicsList* physicsList = new FTFP_BERT;\n",
    "   physicsList->RegisterPhysics(new G4StepLimiterPhysics());\n",
    "   runManager->SetUserInitialization(physicsList);\n",
    "\n",
    "  ```\n",
    "\n",
    "\n"
   ]
  },
  {
   "cell_type": "markdown",
   "id": "cb725318",
   "metadata": {},
   "source": [
    "## 方法二：继承 G4VModularPhysicsList 类\n",
    "\n",
    "+ basic/B3\n",
    "+ 需要继承 G4VModularPhysicsList 类，在 B3 中，该类为 PhysicsList。在该方法中，不需要自己额外写具体的物理过程，直接通过 RegisterPhysics() 函数注册即可。在 .cc 程序中，具体代码如下所示：\n",
    "  ```\n",
    "  //\n",
    "   PhysicsList::PhysicsList()\n",
    "  {\n",
    "    SetVerboseLevel(1);\n",
    " \n",
    "    // Default physics\n",
    "    RegisterPhysics(new G4DecayPhysics());\n",
    " \n",
    "    // EM physics\n",
    "    RegisterPhysics(new G4EmStandardPhysics());\n",
    " \n",
    "    // Radioactive decay\n",
    "    RegisterPhysics(new G4RadioactiveDecayPhysics());\n",
    "  }\n",
    " \n",
    "  //\n",
    " \n",
    "  void PhysicsList::SetCuts()\n",
    "  {\n",
    "    G4VUserPhysicsList::SetCuts();\n",
    "  }\n",
    "\n",
    "  ```\n",
    "+ 在主程序中，需要如下代码进行调用：\n",
    "  ```\n",
    "  runManager->SetUserInitialization(new B3::PhysicsList);\n",
    "  ```"
   ]
  },
  {
   "cell_type": "markdown",
   "id": "c7c1d074",
   "metadata": {},
   "source": [
    "## 方法三：继承 G4VPhysicsConstructor 类\n",
    "+ extended/electromagnetic/TestEm0\n",
    "+ extended/electromagnetic/TestEm15\n",
    "+ 需要有继承自 G4VPhysicsConstructor 的类，在 TestEm0 中，该类为 PhysListEmStandard。需要具体的实现 ConstructProcess() 方法，需要针对不同的粒子，设置不同的物理过程：\n",
    "  ```\n",
    "  if (particleName == \"gamma\") {\n",
    "\n",
    "       ph->RegisterProcess(new G4RayleighScattering, particle);\n",
    "       ph->RegisterProcess(new G4PhotoElectricEffect, particle);\n",
    "       G4ComptonScattering* cs   = new G4ComptonScattering;\n",
    "       cs->SetEmModel(new G4KleinNishinaModel());\n",
    "       ph->RegisterProcess(cs, particle);\n",
    "       ph->RegisterProcess(new G4GammaConversion, particle);\n",
    "  } \n",
    "  ```\n",
    "+ 在 TestEm15 中，通过 AddProcess() 方法设置针对不同粒子的物理过程：\n",
    "  ```\n",
    "   if (particleName == \"gamma\") {\n",
    "   // gamma\n",
    "   pmanager->AddDiscreteProcess(new G4PhotoElectricEffect);\n",
    "   pmanager->AddDiscreteProcess(new G4ComptonScattering);\n",
    "   pmanager->AddDiscreteProcess(new G4GammaConversion);\n",
    "   }\n",
    "  ```\n",
    "+ 同时还需要继承自 G4VModularPhysicsList 的类，在 TestEm0 中，该类为 PhysicsList。需要在该类中调用 ConstructProcess() 方法。"
   ]
  },
  {
   "cell_type": "markdown",
   "id": "9a154d7f",
   "metadata": {},
   "source": [
    "## 方法四：继承 G4VProcess 类\n",
    "+ extended/exoticphysics/monopole\n",
    "+ 需要自行构建物理过程，继承自 G4VProcess 类，在 monopole 中，该类为 G4MonopoleTransportation。\n",
    "+ 其余部分与方法二和方法三类似。\n",
    "\n",
    "+ 在 G4 中，一个反应需要 GetPhysicalInteractionLength(GPIL) 以及 DoIt 函数，其中 GPIL 函数根据反应截面的信息给出 step length，在该 step 结束后会调用 DoIt 函数，该函数对 particle 的能量，动量，方向，位置做了修改，以及生成次级的 track。\n",
    "\n",
    "### 三种 GPIL 以及 DoIt 函数\n",
    "+ AlongStepDoIt。该函数在粒子发生每一步 step 时被调用。对于实际情况，多个 G4VProcess 对应着多个 AlongStepDoIt 函数，每个 AlongStepDoIt 函数都会被调用，并更新 particle。在所有的调用完成后，会将更新的 particle 信息给到 track 中。\n",
    "+ PostStepDoIt。如果某个 G4VProcess 有最小的 step length 或者被强制执行。"
   ]
  },
  {
   "cell_type": "code",
   "execution_count": null,
   "id": "659f5c91",
   "metadata": {},
   "outputs": [],
   "source": []
  }
 ],
 "metadata": {
  "kernelspec": {
   "display_name": "Python 3 (ipykernel)",
   "language": "python",
   "name": "python3"
  },
  "language_info": {
   "codemirror_mode": {
    "name": "ipython",
    "version": 3
   },
   "file_extension": ".py",
   "mimetype": "text/x-python",
   "name": "python",
   "nbconvert_exporter": "python",
   "pygments_lexer": "ipython3",
   "version": "3.11.5"
  }
 },
 "nbformat": 4,
 "nbformat_minor": 5
}
