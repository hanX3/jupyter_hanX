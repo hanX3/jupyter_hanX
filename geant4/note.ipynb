{
 "cells": [
  {
   "cell_type": "markdown",
   "id": "affa6b08",
   "metadata": {},
   "source": [
    "# 报错解决\n",
    "\n",
    "+ include \"TROOT.h\" 报错。windows wsl ubuntu 环境，g4-v1111，root-v62402"
   ]
  },
  {
   "cell_type": "markdown",
   "id": "3e81fcd3",
   "metadata": {},
   "source": [
    "# 一些资料\n",
    "+ 在 https://www.nishina.riken.jp/collaboration/SUNFLOWER/devices/hrarray/index.html 有 Riken 的 g4 模拟代码，可供参考；\n",
    "+ triumf https://github.com/e-j-w github 网页，有很多可以参考的内容；"
   ]
  },
  {
   "cell_type": "markdown",
   "id": "03a80cc1",
   "metadata": {},
   "source": [
    "# 默认单位\n",
    "+ 在 CLHEP/Units/SystemOfUnits.h 文件中是关于单位的定义。基本单位为 millimeter, nanosecond, Mega electron Volt, positron charge, degree Kelvin, the amount of substance, luminous intensity, radian, steradian。"
   ]
  },
  {
   "cell_type": "markdown",
   "id": "b3c9b626",
   "metadata": {},
   "source": [
    "# G4PVPlacement\n"
   ]
  },
  {
   "cell_type": "code",
   "execution_count": null,
   "id": "e2851ea2",
   "metadata": {},
   "outputs": [],
   "source": []
  }
 ],
 "metadata": {
  "kernelspec": {
   "display_name": "Python 3 (ipykernel)",
   "language": "python",
   "name": "python3"
  },
  "language_info": {
   "codemirror_mode": {
    "name": "ipython",
    "version": 3
   },
   "file_extension": ".py",
   "mimetype": "text/x-python",
   "name": "python",
   "nbconvert_exporter": "python",
   "pygments_lexer": "ipython3",
   "version": "3.11.5"
  }
 },
 "nbformat": 4,
 "nbformat_minor": 5
}
