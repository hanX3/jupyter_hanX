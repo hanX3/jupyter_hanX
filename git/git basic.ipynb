{
 "cells": [
  {
   "cell_type": "markdown",
   "id": "509d52c7",
   "metadata": {},
   "source": [
    "# basic\n",
    "\n",
    "## 安装\n",
    "+ apt install 即可\n",
    "\n",
    "## 初始设置\n",
    "+ `git config --global user.name hanxingchi`\n",
    "+ `git config --global user.email hanxingchi@gmail.com`\n",
    "\n",
    "## 常用操作\n",
    "+ `git status` 查看 git 当前状态，是否修改了某文件，添加了某文件；\n",
    "+ `git add file_name` 添加某文件；\n",
    "+ `git commit -m \"init\"` 为 `git add`添加记录；\n",
    "+ `git log` 查看 commit 记录；\n",
    "+ 利用 .gitignore 文件忽略某文件，或者某文件夹；\n",
    "+ `git show commit_id` 查看某一次 commit 具体做了什么修改；\n",
    "+ `git reset commit_id` 恢复到某一次 commit 的状态；\n",
    "+ `git commit -amend` 将某一次改动添加进上一次的 commit 中，用于某次 commmit 后发现还有需要修改的部分，但是又不想再次提交一次 commit；\n",
    "+ `git branch` 查看有哪些 branch，以及当前所在的 branch；\n",
    "+ `git checkout -b dev` 开一个新的名叫 dev 的 branch；\n",
    "+ `git checkout master` 切换到 master branch；\n",
    "+ `git merge dev` 在 master branch 时，将 dev branch 合并到 master 中；\n",
    "\n",
    "## github\n",
    "### 先有本地的 git 文件夹后 ...\n",
    "+ `git remove add origin https://...` 将本地的 git 的文件夹和 github 上面的某个仓库做关联，这里的 github 端起名为 origin；\n",
    "+ `git push -u origin master` 将本地端的内容 push 到 github 端，push 的 master branch，第一次 push 需要加上 -u 参数。如果需要 push 其他的 branch，则需要切换到其他 branch 后，用类似的方法进行 push；\n",
    "### 先有 github 上的仓库后 ...\n",
    "+ `git clone https://... ` 从 github 端 clone 下来，这样就直接有了关联；\n",
    "+ `git checkout -b dev` 开一个新的 dev 的 branch；并在该 branch 中作 commit；\n",
    "+ `git push -u origin dev` 将 dev 这个 branch 上传到 github 中；\n",
    "### fork\n",
    "+ fork 是指将别人的仓库，下载到自己的账户下，实际上类似于在原作者的项目中新开了一个 branch，只不过 branch 需要合作者才有权限创建，而 fork 则时所有人均可；\n",
    "+ fork 之后使用 `git clone` 下载 fork 的仓库到本地，这时用 `git remote` 可以列出当前远程仓库的别名，一般是 origin；\n",
    "+ 如何将自己 fork 的代码更新到对方的最新状态？`git remote add upstream https://...` 这样就会得到一个新的远程仓库，叫做 upstream，这里的网址是 fork 的原仓库网址。`git fetch upstream` 从远程仓库 upstream 获取代码。`git pull upstream master` 将最新的代码更新到 master。\n",
    "+ 修改 fork 的代码，并 commit 后便可以在 github 官网上，提交 pull request，并且加上相关说明；\n",
    "\n",
    "## commit"
   ]
  },
  {
   "cell_type": "code",
   "execution_count": null,
   "id": "1bc168a2",
   "metadata": {},
   "outputs": [],
   "source": []
  }
 ],
 "metadata": {
  "kernelspec": {
   "display_name": "Python 3 (ipykernel)",
   "language": "python",
   "name": "python3"
  },
  "language_info": {
   "codemirror_mode": {
    "name": "ipython",
    "version": 3
   },
   "file_extension": ".py",
   "mimetype": "text/x-python",
   "name": "python",
   "nbconvert_exporter": "python",
   "pygments_lexer": "ipython3",
   "version": "3.11.5"
  }
 },
 "nbformat": 4,
 "nbformat_minor": 5
}
